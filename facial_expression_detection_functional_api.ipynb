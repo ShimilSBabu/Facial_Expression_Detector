{
  "cells": [
    {
      "cell_type": "markdown",
      "metadata": {
        "id": "view-in-github",
        "colab_type": "text"
      },
      "source": [
        "<a href=\"https://colab.research.google.com/github/ShimilSBabu/Facial_Expression_Detector/blob/main/facial_expression_detection_functional_api.ipynb\" target=\"_parent\"><img src=\"https://colab.research.google.com/assets/colab-badge.svg\" alt=\"Open In Colab\"/></a>"
      ]
    },
    {
      "cell_type": "code",
      "source": [
        "!pip install opendatasets"
      ],
      "metadata": {
        "colab": {
          "base_uri": "https://localhost:8080/"
        },
        "id": "ec7vbpMrijOE",
        "outputId": "fc601c10-41e3-4694-be08-9946ae00b742"
      },
      "execution_count": 1,
      "outputs": [
        {
          "output_type": "stream",
          "name": "stdout",
          "text": [
            "Looking in indexes: https://pypi.org/simple, https://us-python.pkg.dev/colab-wheels/public/simple/\n",
            "Collecting opendatasets\n",
            "  Downloading opendatasets-0.1.22-py3-none-any.whl (15 kB)\n",
            "Requirement already satisfied: click in /usr/local/lib/python3.7/dist-packages (from opendatasets) (7.1.2)\n",
            "Requirement already satisfied: tqdm in /usr/local/lib/python3.7/dist-packages (from opendatasets) (4.64.1)\n",
            "Requirement already satisfied: kaggle in /usr/local/lib/python3.7/dist-packages (from opendatasets) (1.5.12)\n",
            "Requirement already satisfied: urllib3 in /usr/local/lib/python3.7/dist-packages (from kaggle->opendatasets) (1.24.3)\n",
            "Requirement already satisfied: python-slugify in /usr/local/lib/python3.7/dist-packages (from kaggle->opendatasets) (6.1.2)\n",
            "Requirement already satisfied: certifi in /usr/local/lib/python3.7/dist-packages (from kaggle->opendatasets) (2022.9.24)\n",
            "Requirement already satisfied: requests in /usr/local/lib/python3.7/dist-packages (from kaggle->opendatasets) (2.23.0)\n",
            "Requirement already satisfied: six>=1.10 in /usr/local/lib/python3.7/dist-packages (from kaggle->opendatasets) (1.15.0)\n",
            "Requirement already satisfied: python-dateutil in /usr/local/lib/python3.7/dist-packages (from kaggle->opendatasets) (2.8.2)\n",
            "Requirement already satisfied: text-unidecode>=1.3 in /usr/local/lib/python3.7/dist-packages (from python-slugify->kaggle->opendatasets) (1.3)\n",
            "Requirement already satisfied: chardet<4,>=3.0.2 in /usr/local/lib/python3.7/dist-packages (from requests->kaggle->opendatasets) (3.0.4)\n",
            "Requirement already satisfied: idna<3,>=2.5 in /usr/local/lib/python3.7/dist-packages (from requests->kaggle->opendatasets) (2.10)\n",
            "Installing collected packages: opendatasets\n",
            "Successfully installed opendatasets-0.1.22\n"
          ]
        }
      ]
    },
    {
      "cell_type": "code",
      "source": [
        "import opendatasets as od\n",
        "import pandas\n",
        "\n",
        "od.download(\n",
        "\t\"https://www.kaggle.com/datasets/ahmedmoorsy/facial-expression\")\n"
      ],
      "metadata": {
        "colab": {
          "base_uri": "https://localhost:8080/"
        },
        "id": "FLGTJ43Wi_VS",
        "outputId": "5dd92217-b11a-4b74-9913-982a760e8339"
      },
      "execution_count": 2,
      "outputs": [
        {
          "output_type": "stream",
          "name": "stdout",
          "text": [
            "Please provide your Kaggle credentials to download this dataset. Learn more: http://bit.ly/kaggle-creds\n",
            "Your Kaggle username: shimilsbabu\n",
            "Your Kaggle Key: ··········\n",
            "Downloading facial-expression.zip to ./facial-expression\n"
          ]
        },
        {
          "output_type": "stream",
          "name": "stderr",
          "text": [
            "100%|██████████| 193M/193M [00:06<00:00, 30.3MB/s]"
          ]
        },
        {
          "output_type": "stream",
          "name": "stdout",
          "text": [
            "\n"
          ]
        },
        {
          "output_type": "stream",
          "name": "stderr",
          "text": [
            "\n"
          ]
        }
      ]
    },
    {
      "cell_type": "code",
      "execution_count": 3,
      "metadata": {
        "_cell_guid": "b1076dfc-b9ad-4769-8c92-a6c4dae69d19",
        "_uuid": "8f2839f25d086af736a60e9eeb907d3b93b6e0e5",
        "colab": {
          "base_uri": "https://localhost:8080/"
        },
        "id": "ksiXcs9Fgxg_",
        "outputId": "3b1aa959-fb1f-4781-f01a-cb995f315545"
      },
      "outputs": [
        {
          "output_type": "stream",
          "name": "stdout",
          "text": [
            "['fer2013.csv']\n"
          ]
        }
      ],
      "source": [
        "# This Python 3 environment comes with many helpful analytics libraries installed\n",
        "# It is defined by the kaggle/python docker image: https://github.com/kaggle/docker-python\n",
        "# For example, here's several helpful packages to load in \n",
        "\n",
        "import numpy as np # linear algebra\n",
        "import pandas as pd # data processing, CSV file I/O (e.g. pd.read_csv)\n",
        "\n",
        "# Input data files are available in the \"../input/\" directory.\n",
        "# For example, running this (by clicking run or pressing Shift+Enter) will list the files in the input directory\n",
        "\n",
        "import os\n",
        "print(os.listdir(\"../content/facial-expression/fer2013/\"))\n",
        "\n",
        "# Any results you write to the current directory are saved as output."
      ]
    },
    {
      "cell_type": "code",
      "execution_count": 14,
      "metadata": {
        "_cell_guid": "79c7e3d0-c299-4dcb-8224-4455121ee9b0",
        "_uuid": "d629ff2d2480ee46fbb7e2d37f6b5fab8052498a",
        "id": "lv-eFVyigxhC"
      },
      "outputs": [],
      "source": [
        "import tensorflow as tf\n",
        "\n",
        "import keras\n",
        "from keras.models import Sequential\n",
        "from keras.layers import Conv2D, MaxPooling2D, AveragePooling2D, Input\n",
        "from keras.layers import Dense, Activation, Dropout, Flatten\n",
        "\n",
        "from keras.preprocessing import image\n",
        "from keras.preprocessing.image import ImageDataGenerator\n",
        "import pandas as pd\n",
        "import numpy as np\n",
        "import matplotlib.pyplot as plt\n",
        "from keras import backend as K"
      ]
    },
    {
      "cell_type": "code",
      "execution_count": 5,
      "metadata": {
        "_uuid": "87965c894d3b7f3b3dfc66d8c2a60efcc08a370d",
        "colab": {
          "base_uri": "https://localhost:8080/",
          "height": 363
        },
        "id": "9JpV1McJgxhC",
        "outputId": "9619eec6-6361-4568-8a4e-6fa1cbfca646"
      },
      "outputs": [
        {
          "output_type": "execute_result",
          "data": {
            "text/plain": [
              "   emotion                                             pixels     usage\n",
              "0  emotion                                             pixels     Usage\n",
              "1        0  70 80 82 72 58 58 60 63 54 58 60 48 89 115 121...  Training\n",
              "2        0  151 150 147 155 148 133 111 140 170 174 182 15...  Training\n",
              "3        2  231 212 156 164 174 138 161 173 182 200 106 38...  Training\n",
              "4        4  24 32 36 30 32 23 19 20 30 41 21 22 32 34 21 1...  Training\n",
              "5        6  4 0 0 0 0 0 0 0 0 0 0 0 3 15 23 28 48 50 58 84...  Training\n",
              "6        2  55 55 55 55 55 54 60 68 54 85 151 163 170 179 ...  Training\n",
              "7        4  20 17 19 21 25 38 42 42 46 54 56 62 63 66 82 1...  Training\n",
              "8        3  77 78 79 79 78 75 60 55 47 48 58 73 77 79 57 5...  Training\n",
              "9        3  85 84 90 121 101 102 133 153 153 169 177 189 1...  Training"
            ],
            "text/html": [
              "\n",
              "  <div id=\"df-0237cf5b-54d0-496c-88f9-c956fa6c168d\">\n",
              "    <div class=\"colab-df-container\">\n",
              "      <div>\n",
              "<style scoped>\n",
              "    .dataframe tbody tr th:only-of-type {\n",
              "        vertical-align: middle;\n",
              "    }\n",
              "\n",
              "    .dataframe tbody tr th {\n",
              "        vertical-align: top;\n",
              "    }\n",
              "\n",
              "    .dataframe thead th {\n",
              "        text-align: right;\n",
              "    }\n",
              "</style>\n",
              "<table border=\"1\" class=\"dataframe\">\n",
              "  <thead>\n",
              "    <tr style=\"text-align: right;\">\n",
              "      <th></th>\n",
              "      <th>emotion</th>\n",
              "      <th>pixels</th>\n",
              "      <th>usage</th>\n",
              "    </tr>\n",
              "  </thead>\n",
              "  <tbody>\n",
              "    <tr>\n",
              "      <th>0</th>\n",
              "      <td>emotion</td>\n",
              "      <td>pixels</td>\n",
              "      <td>Usage</td>\n",
              "    </tr>\n",
              "    <tr>\n",
              "      <th>1</th>\n",
              "      <td>0</td>\n",
              "      <td>70 80 82 72 58 58 60 63 54 58 60 48 89 115 121...</td>\n",
              "      <td>Training</td>\n",
              "    </tr>\n",
              "    <tr>\n",
              "      <th>2</th>\n",
              "      <td>0</td>\n",
              "      <td>151 150 147 155 148 133 111 140 170 174 182 15...</td>\n",
              "      <td>Training</td>\n",
              "    </tr>\n",
              "    <tr>\n",
              "      <th>3</th>\n",
              "      <td>2</td>\n",
              "      <td>231 212 156 164 174 138 161 173 182 200 106 38...</td>\n",
              "      <td>Training</td>\n",
              "    </tr>\n",
              "    <tr>\n",
              "      <th>4</th>\n",
              "      <td>4</td>\n",
              "      <td>24 32 36 30 32 23 19 20 30 41 21 22 32 34 21 1...</td>\n",
              "      <td>Training</td>\n",
              "    </tr>\n",
              "    <tr>\n",
              "      <th>5</th>\n",
              "      <td>6</td>\n",
              "      <td>4 0 0 0 0 0 0 0 0 0 0 0 3 15 23 28 48 50 58 84...</td>\n",
              "      <td>Training</td>\n",
              "    </tr>\n",
              "    <tr>\n",
              "      <th>6</th>\n",
              "      <td>2</td>\n",
              "      <td>55 55 55 55 55 54 60 68 54 85 151 163 170 179 ...</td>\n",
              "      <td>Training</td>\n",
              "    </tr>\n",
              "    <tr>\n",
              "      <th>7</th>\n",
              "      <td>4</td>\n",
              "      <td>20 17 19 21 25 38 42 42 46 54 56 62 63 66 82 1...</td>\n",
              "      <td>Training</td>\n",
              "    </tr>\n",
              "    <tr>\n",
              "      <th>8</th>\n",
              "      <td>3</td>\n",
              "      <td>77 78 79 79 78 75 60 55 47 48 58 73 77 79 57 5...</td>\n",
              "      <td>Training</td>\n",
              "    </tr>\n",
              "    <tr>\n",
              "      <th>9</th>\n",
              "      <td>3</td>\n",
              "      <td>85 84 90 121 101 102 133 153 153 169 177 189 1...</td>\n",
              "      <td>Training</td>\n",
              "    </tr>\n",
              "  </tbody>\n",
              "</table>\n",
              "</div>\n",
              "      <button class=\"colab-df-convert\" onclick=\"convertToInteractive('df-0237cf5b-54d0-496c-88f9-c956fa6c168d')\"\n",
              "              title=\"Convert this dataframe to an interactive table.\"\n",
              "              style=\"display:none;\">\n",
              "        \n",
              "  <svg xmlns=\"http://www.w3.org/2000/svg\" height=\"24px\"viewBox=\"0 0 24 24\"\n",
              "       width=\"24px\">\n",
              "    <path d=\"M0 0h24v24H0V0z\" fill=\"none\"/>\n",
              "    <path d=\"M18.56 5.44l.94 2.06.94-2.06 2.06-.94-2.06-.94-.94-2.06-.94 2.06-2.06.94zm-11 1L8.5 8.5l.94-2.06 2.06-.94-2.06-.94L8.5 2.5l-.94 2.06-2.06.94zm10 10l.94 2.06.94-2.06 2.06-.94-2.06-.94-.94-2.06-.94 2.06-2.06.94z\"/><path d=\"M17.41 7.96l-1.37-1.37c-.4-.4-.92-.59-1.43-.59-.52 0-1.04.2-1.43.59L10.3 9.45l-7.72 7.72c-.78.78-.78 2.05 0 2.83L4 21.41c.39.39.9.59 1.41.59.51 0 1.02-.2 1.41-.59l7.78-7.78 2.81-2.81c.8-.78.8-2.07 0-2.86zM5.41 20L4 18.59l7.72-7.72 1.47 1.35L5.41 20z\"/>\n",
              "  </svg>\n",
              "      </button>\n",
              "      \n",
              "  <style>\n",
              "    .colab-df-container {\n",
              "      display:flex;\n",
              "      flex-wrap:wrap;\n",
              "      gap: 12px;\n",
              "    }\n",
              "\n",
              "    .colab-df-convert {\n",
              "      background-color: #E8F0FE;\n",
              "      border: none;\n",
              "      border-radius: 50%;\n",
              "      cursor: pointer;\n",
              "      display: none;\n",
              "      fill: #1967D2;\n",
              "      height: 32px;\n",
              "      padding: 0 0 0 0;\n",
              "      width: 32px;\n",
              "    }\n",
              "\n",
              "    .colab-df-convert:hover {\n",
              "      background-color: #E2EBFA;\n",
              "      box-shadow: 0px 1px 2px rgba(60, 64, 67, 0.3), 0px 1px 3px 1px rgba(60, 64, 67, 0.15);\n",
              "      fill: #174EA6;\n",
              "    }\n",
              "\n",
              "    [theme=dark] .colab-df-convert {\n",
              "      background-color: #3B4455;\n",
              "      fill: #D2E3FC;\n",
              "    }\n",
              "\n",
              "    [theme=dark] .colab-df-convert:hover {\n",
              "      background-color: #434B5C;\n",
              "      box-shadow: 0px 1px 3px 1px rgba(0, 0, 0, 0.15);\n",
              "      filter: drop-shadow(0px 1px 2px rgba(0, 0, 0, 0.3));\n",
              "      fill: #FFFFFF;\n",
              "    }\n",
              "  </style>\n",
              "\n",
              "      <script>\n",
              "        const buttonEl =\n",
              "          document.querySelector('#df-0237cf5b-54d0-496c-88f9-c956fa6c168d button.colab-df-convert');\n",
              "        buttonEl.style.display =\n",
              "          google.colab.kernel.accessAllowed ? 'block' : 'none';\n",
              "\n",
              "        async function convertToInteractive(key) {\n",
              "          const element = document.querySelector('#df-0237cf5b-54d0-496c-88f9-c956fa6c168d');\n",
              "          const dataTable =\n",
              "            await google.colab.kernel.invokeFunction('convertToInteractive',\n",
              "                                                     [key], {});\n",
              "          if (!dataTable) return;\n",
              "\n",
              "          const docLinkHtml = 'Like what you see? Visit the ' +\n",
              "            '<a target=\"_blank\" href=https://colab.research.google.com/notebooks/data_table.ipynb>data table notebook</a>'\n",
              "            + ' to learn more about interactive tables.';\n",
              "          element.innerHTML = '';\n",
              "          dataTable['output_type'] = 'display_data';\n",
              "          await google.colab.output.renderOutput(dataTable, element);\n",
              "          const docLink = document.createElement('div');\n",
              "          docLink.innerHTML = docLinkHtml;\n",
              "          element.appendChild(docLink);\n",
              "        }\n",
              "      </script>\n",
              "    </div>\n",
              "  </div>\n",
              "  "
            ]
          },
          "metadata": {},
          "execution_count": 5
        }
      ],
      "source": [
        "# get the data\n",
        "filname = '../content/facial-expression/fer2013/fer2013.csv'\n",
        "label_map = ['Anger', 'Disgust', 'Fear', 'Happy', 'Sad', 'Surprise', 'Neutral']\n",
        "names=['emotion','pixels','usage']\n",
        "df=pd.read_csv('../content/facial-expression/fer2013/fer2013.csv',names=names, na_filter=False)\n",
        "im=df['pixels']\n",
        "df.head(10)"
      ]
    },
    {
      "cell_type": "code",
      "execution_count": 6,
      "metadata": {
        "_uuid": "bfde4d91ff367dfa6764202c1b309ea291fb833a",
        "id": "H7V4bzAygxhD"
      },
      "outputs": [],
      "source": [
        "def getData(filname):\n",
        "    # images are 48x48\n",
        "    # N = 35887\n",
        "    Y = []\n",
        "    X = []\n",
        "    first = True\n",
        "    for line in open(filname):\n",
        "        if first:\n",
        "            first = False\n",
        "        else:\n",
        "            row = line.split(',')\n",
        "            Y.append(int(row[0]))\n",
        "            X.append([int(p) for p in row[1].split()])\n",
        "\n",
        "    X, Y = np.array(X) / 255.0, np.array(Y)\n",
        "    return X, Y\n"
      ]
    },
    {
      "cell_type": "code",
      "execution_count": 7,
      "metadata": {
        "_uuid": "435d0e06553e3de3fd982e4a4a86c28018ac3913",
        "colab": {
          "base_uri": "https://localhost:8080/"
        },
        "id": "SWethOGRgxhD",
        "outputId": "891a4915-1e1f-47a7-d8a9-6a43eb68e873"
      },
      "outputs": [
        {
          "output_type": "stream",
          "name": "stdout",
          "text": [
            "7\n"
          ]
        }
      ],
      "source": [
        "X, Y = getData(filname)\n",
        "num_class = len(set(Y))\n",
        "print(num_class)"
      ]
    },
    {
      "cell_type": "code",
      "execution_count": 8,
      "metadata": {
        "_uuid": "f3c6bfb7aaf3c25ba7cdd5621e4d62b9eaa5502e",
        "id": "nc4IHDg2gxhE"
      },
      "outputs": [],
      "source": [
        "# keras with tensorflow backend\n",
        "N, D = X.shape\n",
        "X = X.reshape(N, 48, 48, 1)"
      ]
    },
    {
      "cell_type": "code",
      "execution_count": 9,
      "metadata": {
        "_uuid": "be4faef86c3c5635697f10939547edd5c8760308",
        "id": "T9qEfzIFgxhE"
      },
      "outputs": [],
      "source": [
        "from sklearn.model_selection import train_test_split\n",
        "\n",
        "X_train, X_test, y_train, y_test = train_test_split(X, Y, test_size=0.1, random_state=0)\n",
        "y_train = (np.arange(num_class) == y_train[:, None]).astype(np.float32)\n",
        "y_test = (np.arange(num_class) == y_test[:, None]).astype(np.float32)"
      ]
    },
    {
      "cell_type": "code",
      "execution_count": 29,
      "metadata": {
        "_uuid": "3afd36886a65ff49fe48ac73271f7477b574375a",
        "id": "_eKTEBs7gxhF"
      },
      "outputs": [],
      "source": [
        "from keras.models import Sequential\n",
        "from tensorflow.keras.models import Model\n",
        "from keras.layers import Dense , Activation , Dropout ,Flatten, GlobalAveragePooling2D\n",
        "from keras.layers.convolutional import Conv2D\n",
        "from keras.layers.convolutional import MaxPooling2D\n",
        "from keras.metrics import categorical_accuracy\n",
        "from keras.models import model_from_json\n",
        "from keras.callbacks import ModelCheckpoint\n",
        "from keras.optimizers import *\n",
        "from keras.layers import BatchNormalization\n",
        "from tensorflow.keras.utils import load_img, img_to_array"
      ]
    },
    {
      "cell_type": "code",
      "source": [
        "def custom_functional_model():\n",
        "  input = Input((48,48,1))\n",
        "  conv_block_1 = Conv2D(64, (5, 5), activation='relu', padding='same')(input)\n",
        "  conv_block_1 = Conv2D(64, (5, 5), activation='relu', padding='same')(conv_block_1)\n",
        "  conv_block_1 = BatchNormalization()(conv_block_1)\n",
        "  # conv_block_1 = MaxPooling2D(pool_size=(2, 2))(conv_block_1)\n",
        "  conv_block_1 = Dropout(0.3)(conv_block_1)\n",
        "\n",
        "\n",
        "  conv_block_2 = Conv2D(128, (5, 5), activation='relu', padding='same')(conv_block_1)\n",
        "  conv_block_2 = Conv2D(128, (5, 5), activation='relu', padding='same')(conv_block_2)\n",
        "  conv_block_2 = MaxPooling2D(pool_size=(2, 2))(conv_block_2)\n",
        "  conv_block_2 = Dropout(0.3)(conv_block_2)\n",
        "\n",
        "  conv_block_3 = Conv2D(256, (3, 3), activation='relu', padding='same')(conv_block_2)\n",
        "  conv_block_3 = Conv2D(256, (3, 3), activation='relu', padding='same')(conv_block_3)\n",
        "  # conv_block_3 = BatchNormalization()(conv_block_3)\n",
        "  conv_block_3 = MaxPooling2D(pool_size=(2, 2))(conv_block_3)\n",
        "  conv_block_3 = Dropout(0.3)(conv_block_3)\n",
        "\n",
        "  conv_block_4 = Conv2D(256, (3, 3), activation='relu', padding='same')(conv_block_3)\n",
        "  conv_block_4 = Conv2D(256, (3, 3), activation='relu', padding='same')(conv_block_4)\n",
        "  # conv_block_3 = BatchNormalization()(conv_block_3)\n",
        "  conv_block_4 = MaxPooling2D(pool_size=(2, 2))(conv_block_4)\n",
        "  conv_block_4 = Dropout(0.3)(conv_block_4)\n",
        "\n",
        "  # output_block = Flatten()(conv_block_3)\n",
        "  output_block = GlobalAveragePooling2D()(conv_block_4)\n",
        "\n",
        "  output_block = Dense(64)(output_block)\n",
        "  # output_block = BatchNormalization()(output_block)\n",
        "  output_block = Activation('relu')(output_block)\n",
        "  output_block = Dropout(0.2)(output_block)\n",
        "  output_block = Dense(7)(output_block)\n",
        "  output_block = Activation('softmax')(output_block)\n",
        "\n",
        "  model = Model(input, output_block)\n",
        "  \n",
        "  return model "
      ],
      "metadata": {
        "id": "JXIP5CQPR4it"
      },
      "execution_count": 40,
      "outputs": []
    },
    {
      "cell_type": "code",
      "source": [
        "model=custom_functional_model()\n",
        "model.compile(loss='categorical_crossentropy', metrics=['accuracy'],optimizer='adam')\n",
        "model.summary()\n"
      ],
      "metadata": {
        "id": "s8s0Hf1_XZ3T",
        "colab": {
          "base_uri": "https://localhost:8080/"
        },
        "outputId": "3f6ece51-0f22-4014-f346-a87a27760dd6"
      },
      "execution_count": 41,
      "outputs": [
        {
          "output_type": "stream",
          "name": "stdout",
          "text": [
            "Model: \"model_1\"\n",
            "_________________________________________________________________\n",
            " Layer (type)                Output Shape              Param #   \n",
            "=================================================================\n",
            " input_2 (InputLayer)        [(None, 48, 48, 1)]       0         \n",
            "                                                                 \n",
            " conv2d_6 (Conv2D)           (None, 48, 48, 64)        1664      \n",
            "                                                                 \n",
            " conv2d_7 (Conv2D)           (None, 48, 48, 64)        102464    \n",
            "                                                                 \n",
            " batch_normalization_1 (Batc  (None, 48, 48, 64)       256       \n",
            " hNormalization)                                                 \n",
            "                                                                 \n",
            " dropout_4 (Dropout)         (None, 48, 48, 64)        0         \n",
            "                                                                 \n",
            " conv2d_8 (Conv2D)           (None, 48, 48, 128)       204928    \n",
            "                                                                 \n",
            " conv2d_9 (Conv2D)           (None, 48, 48, 128)       409728    \n",
            "                                                                 \n",
            " max_pooling2d_2 (MaxPooling  (None, 24, 24, 128)      0         \n",
            " 2D)                                                             \n",
            "                                                                 \n",
            " dropout_5 (Dropout)         (None, 24, 24, 128)       0         \n",
            "                                                                 \n",
            " conv2d_10 (Conv2D)          (None, 24, 24, 256)       295168    \n",
            "                                                                 \n",
            " conv2d_11 (Conv2D)          (None, 24, 24, 256)       590080    \n",
            "                                                                 \n",
            " max_pooling2d_3 (MaxPooling  (None, 12, 12, 256)      0         \n",
            " 2D)                                                             \n",
            "                                                                 \n",
            " dropout_6 (Dropout)         (None, 12, 12, 256)       0         \n",
            "                                                                 \n",
            " conv2d_12 (Conv2D)          (None, 12, 12, 256)       590080    \n",
            "                                                                 \n",
            " conv2d_13 (Conv2D)          (None, 12, 12, 256)       590080    \n",
            "                                                                 \n",
            " max_pooling2d_4 (MaxPooling  (None, 6, 6, 256)        0         \n",
            " 2D)                                                             \n",
            "                                                                 \n",
            " dropout_7 (Dropout)         (None, 6, 6, 256)         0         \n",
            "                                                                 \n",
            " global_average_pooling2d_1   (None, 256)              0         \n",
            " (GlobalAveragePooling2D)                                        \n",
            "                                                                 \n",
            " dense_2 (Dense)             (None, 64)                16448     \n",
            "                                                                 \n",
            " activation_2 (Activation)   (None, 64)                0         \n",
            "                                                                 \n",
            " dropout_8 (Dropout)         (None, 64)                0         \n",
            "                                                                 \n",
            " dense_3 (Dense)             (None, 7)                 455       \n",
            "                                                                 \n",
            " activation_3 (Activation)   (None, 7)                 0         \n",
            "                                                                 \n",
            "=================================================================\n",
            "Total params: 2,801,351\n",
            "Trainable params: 2,801,223\n",
            "Non-trainable params: 128\n",
            "_________________________________________________________________\n"
          ]
        }
      ]
    },
    {
      "cell_type": "code",
      "source": [
        "path_model='model_filter.h5' # save model at this location after each epoch\n",
        "K.clear_session() # destroys the current graph and builds a new one\n",
        "# model=my_model() # create the model\n",
        "K.set_value(model.optimizer.lr,1e-3) # set the learning rate"
      ],
      "metadata": {
        "id": "4Z4YizSeocdX"
      },
      "execution_count": 42,
      "outputs": []
    },
    {
      "cell_type": "code",
      "execution_count": 43,
      "metadata": {
        "_uuid": "5004be413385dbdf6c3967d34c59e541095ea667",
        "colab": {
          "base_uri": "https://localhost:8080/"
        },
        "id": "0VNS1s3EgxhG",
        "outputId": "c5651812-ee22-4689-ac1b-7bbf2242c00d"
      },
      "outputs": [
        {
          "output_type": "stream",
          "name": "stdout",
          "text": [
            "Epoch 1/50\n",
            "505/505 [==============================] - 109s 103ms/step - loss: 1.8141 - accuracy: 0.2402 - val_loss: 1.8252 - val_accuracy: 0.2563\n",
            "Epoch 2/50\n",
            "505/505 [==============================] - 51s 101ms/step - loss: 1.7899 - accuracy: 0.2506 - val_loss: 1.7647 - val_accuracy: 0.2825\n",
            "Epoch 3/50\n",
            "505/505 [==============================] - 51s 101ms/step - loss: 1.7618 - accuracy: 0.2727 - val_loss: 1.8554 - val_accuracy: 0.2343\n",
            "Epoch 4/50\n",
            "505/505 [==============================] - 51s 101ms/step - loss: 1.7168 - accuracy: 0.2965 - val_loss: 1.7381 - val_accuracy: 0.3031\n",
            "Epoch 5/50\n",
            "505/505 [==============================] - 52s 103ms/step - loss: 1.6276 - accuracy: 0.3530 - val_loss: 1.5996 - val_accuracy: 0.3706\n",
            "Epoch 6/50\n",
            "505/505 [==============================] - 51s 101ms/step - loss: 1.5177 - accuracy: 0.4139 - val_loss: 1.6376 - val_accuracy: 0.3700\n",
            "Epoch 7/50\n",
            "505/505 [==============================] - 52s 102ms/step - loss: 1.4390 - accuracy: 0.4457 - val_loss: 1.4508 - val_accuracy: 0.4469\n",
            "Epoch 8/50\n",
            "505/505 [==============================] - 51s 102ms/step - loss: 1.3706 - accuracy: 0.4763 - val_loss: 1.3145 - val_accuracy: 0.4929\n",
            "Epoch 9/50\n",
            "505/505 [==============================] - 51s 102ms/step - loss: 1.3180 - accuracy: 0.4956 - val_loss: 1.2422 - val_accuracy: 0.5313\n",
            "Epoch 10/50\n",
            "505/505 [==============================] - 52s 102ms/step - loss: 1.2697 - accuracy: 0.5167 - val_loss: 1.3722 - val_accuracy: 0.4642\n",
            "Epoch 11/50\n",
            "505/505 [==============================] - 52s 103ms/step - loss: 1.2263 - accuracy: 0.5310 - val_loss: 1.1814 - val_accuracy: 0.5358\n",
            "Epoch 12/50\n",
            "505/505 [==============================] - 52s 102ms/step - loss: 1.1887 - accuracy: 0.5503 - val_loss: 1.2118 - val_accuracy: 0.5366\n",
            "Epoch 13/50\n",
            "505/505 [==============================] - 51s 102ms/step - loss: 1.1606 - accuracy: 0.5582 - val_loss: 1.1629 - val_accuracy: 0.5548\n",
            "Epoch 14/50\n",
            "505/505 [==============================] - 52s 104ms/step - loss: 1.1312 - accuracy: 0.5736 - val_loss: 1.1222 - val_accuracy: 0.5740\n",
            "Epoch 15/50\n",
            "505/505 [==============================] - 52s 102ms/step - loss: 1.1087 - accuracy: 0.5795 - val_loss: 1.1066 - val_accuracy: 0.5729\n",
            "Epoch 16/50\n",
            "505/505 [==============================] - 52s 102ms/step - loss: 1.0731 - accuracy: 0.5945 - val_loss: 1.1027 - val_accuracy: 0.5692\n",
            "Epoch 17/50\n",
            "505/505 [==============================] - 52s 104ms/step - loss: 1.0574 - accuracy: 0.6007 - val_loss: 1.0974 - val_accuracy: 0.5862\n",
            "Epoch 18/50\n",
            "505/505 [==============================] - 51s 102ms/step - loss: 1.0352 - accuracy: 0.6121 - val_loss: 1.0732 - val_accuracy: 0.5926\n",
            "Epoch 19/50\n",
            "505/505 [==============================] - 52s 102ms/step - loss: 1.0173 - accuracy: 0.6136 - val_loss: 1.1241 - val_accuracy: 0.5812\n",
            "Epoch 20/50\n",
            "505/505 [==============================] - 52s 103ms/step - loss: 0.9909 - accuracy: 0.6236 - val_loss: 1.0492 - val_accuracy: 0.6069\n",
            "Epoch 21/50\n",
            "505/505 [==============================] - 51s 102ms/step - loss: 0.9748 - accuracy: 0.6310 - val_loss: 1.0500 - val_accuracy: 0.6016\n",
            "Epoch 22/50\n",
            "505/505 [==============================] - 52s 102ms/step - loss: 0.9602 - accuracy: 0.6382 - val_loss: 1.0775 - val_accuracy: 0.5996\n",
            "Epoch 23/50\n",
            "505/505 [==============================] - 51s 102ms/step - loss: 0.9390 - accuracy: 0.6471 - val_loss: 1.0661 - val_accuracy: 0.6099\n",
            "Epoch 24/50\n",
            "505/505 [==============================] - 52s 104ms/step - loss: 0.9152 - accuracy: 0.6540 - val_loss: 1.0711 - val_accuracy: 0.6096\n",
            "Epoch 25/50\n",
            "505/505 [==============================] - 52s 102ms/step - loss: 0.9042 - accuracy: 0.6605 - val_loss: 1.0492 - val_accuracy: 0.6088\n",
            "Epoch 26/50\n",
            "505/505 [==============================] - 52s 102ms/step - loss: 0.8862 - accuracy: 0.6666 - val_loss: 1.0470 - val_accuracy: 0.6236\n",
            "Epoch 27/50\n",
            "505/505 [==============================] - 53s 104ms/step - loss: 0.8654 - accuracy: 0.6761 - val_loss: 1.0544 - val_accuracy: 0.6149\n",
            "Epoch 28/50\n",
            "505/505 [==============================] - 51s 102ms/step - loss: 0.8512 - accuracy: 0.6786 - val_loss: 1.0291 - val_accuracy: 0.6222\n",
            "Epoch 29/50\n",
            "505/505 [==============================] - 53s 104ms/step - loss: 0.8278 - accuracy: 0.6888 - val_loss: 1.0582 - val_accuracy: 0.6149\n",
            "Epoch 30/50\n",
            "505/505 [==============================] - 52s 102ms/step - loss: 0.8178 - accuracy: 0.6934 - val_loss: 1.0471 - val_accuracy: 0.6291\n",
            "Epoch 31/50\n",
            "505/505 [==============================] - 52s 102ms/step - loss: 0.8040 - accuracy: 0.6992 - val_loss: 1.0514 - val_accuracy: 0.6180\n",
            "Epoch 32/50\n",
            "505/505 [==============================] - 52s 103ms/step - loss: 0.7784 - accuracy: 0.7065 - val_loss: 1.0827 - val_accuracy: 0.6191\n",
            "Epoch 33/50\n",
            "505/505 [==============================] - 52s 102ms/step - loss: 0.7605 - accuracy: 0.7157 - val_loss: 1.0801 - val_accuracy: 0.6280\n",
            "Epoch 34/50\n",
            "505/505 [==============================] - 52s 103ms/step - loss: 0.7469 - accuracy: 0.7187 - val_loss: 1.1034 - val_accuracy: 0.6227\n",
            "Epoch 35/50\n",
            "505/505 [==============================] - 52s 102ms/step - loss: 0.7293 - accuracy: 0.7264 - val_loss: 1.0810 - val_accuracy: 0.6272\n",
            "Epoch 36/50\n",
            "505/505 [==============================] - 52s 103ms/step - loss: 0.7152 - accuracy: 0.7315 - val_loss: 1.1617 - val_accuracy: 0.6138\n",
            "Epoch 37/50\n",
            "505/505 [==============================] - 51s 102ms/step - loss: 0.7067 - accuracy: 0.7350 - val_loss: 1.1260 - val_accuracy: 0.6330\n",
            "Epoch 38/50\n",
            "505/505 [==============================] - 51s 102ms/step - loss: 0.6939 - accuracy: 0.7416 - val_loss: 1.1356 - val_accuracy: 0.6333\n",
            "Epoch 39/50\n",
            "505/505 [==============================] - 51s 102ms/step - loss: 0.6716 - accuracy: 0.7498 - val_loss: 1.0938 - val_accuracy: 0.6308\n",
            "Epoch 40/50\n",
            "505/505 [==============================] - 52s 103ms/step - loss: 0.6678 - accuracy: 0.7512 - val_loss: 1.1109 - val_accuracy: 0.6319\n",
            "Epoch 41/50\n",
            "505/505 [==============================] - 51s 102ms/step - loss: 0.6433 - accuracy: 0.7599 - val_loss: 1.1554 - val_accuracy: 0.6105\n",
            "Epoch 42/50\n",
            "505/505 [==============================] - 51s 102ms/step - loss: 0.6365 - accuracy: 0.7647 - val_loss: 1.1362 - val_accuracy: 0.6453\n",
            "Epoch 43/50\n",
            "505/505 [==============================] - 51s 102ms/step - loss: 0.6205 - accuracy: 0.7686 - val_loss: 1.1576 - val_accuracy: 0.6317\n",
            "Epoch 44/50\n",
            "505/505 [==============================] - 51s 102ms/step - loss: 0.6049 - accuracy: 0.7760 - val_loss: 1.2646 - val_accuracy: 0.6205\n",
            "Epoch 45/50\n",
            "505/505 [==============================] - 52s 103ms/step - loss: 0.5970 - accuracy: 0.7789 - val_loss: 1.2395 - val_accuracy: 0.6305\n",
            "Epoch 46/50\n",
            "505/505 [==============================] - 51s 102ms/step - loss: 0.5816 - accuracy: 0.7839 - val_loss: 1.1813 - val_accuracy: 0.6358\n",
            "Epoch 47/50\n",
            "505/505 [==============================] - 51s 102ms/step - loss: 0.5640 - accuracy: 0.7933 - val_loss: 1.1983 - val_accuracy: 0.6347\n",
            "Epoch 48/50\n",
            "505/505 [==============================] - 51s 102ms/step - loss: 0.5529 - accuracy: 0.7942 - val_loss: 1.2106 - val_accuracy: 0.6219\n",
            "Epoch 49/50\n",
            "505/505 [==============================] - 52s 103ms/step - loss: 0.5523 - accuracy: 0.7954 - val_loss: 1.2700 - val_accuracy: 0.6308\n",
            "Epoch 50/50\n",
            "505/505 [==============================] - 51s 102ms/step - loss: 0.5300 - accuracy: 0.8061 - val_loss: 1.2026 - val_accuracy: 0.6395\n"
          ]
        }
      ],
      "source": [
        "# fit the model\n",
        "h=model.fit(x=X_train,     \n",
        "            y=y_train, \n",
        "            batch_size=64, \n",
        "            epochs=50, \n",
        "            verbose=1, \n",
        "            validation_data=(X_test,y_test),\n",
        "            shuffle=True,\n",
        "            callbacks=[\n",
        "                ModelCheckpoint(filepath=path_model),\n",
        "            ]\n",
        "            )"
      ]
    },
    {
      "cell_type": "code",
      "execution_count": 44,
      "metadata": {
        "_uuid": "0c7e2abb2a89f4df0d28de0a49db1f60c84fbcf0",
        "colab": {
          "base_uri": "https://localhost:8080/"
        },
        "id": "qhWnkhqigxhG",
        "outputId": "6d37b0b6-e70d-458e-bf6c-5a7faa9dbb4e"
      },
      "outputs": [
        {
          "output_type": "stream",
          "name": "stdout",
          "text": [
            "[0 1 2 3 4 5 6]\n"
          ]
        }
      ],
      "source": [
        "objects = ('angry', 'disgust', 'fear', 'happy', 'sad', 'surprise', 'neutral')\n",
        "y_pos = np.arange(len(objects))\n",
        "print(y_pos)"
      ]
    },
    {
      "cell_type": "code",
      "execution_count": 45,
      "metadata": {
        "_uuid": "077d44e8bbb7549a09682eb09c417903bf2fd935",
        "id": "-SLmR34CgxhH"
      },
      "outputs": [],
      "source": [
        "def emotion_analysis(emotions):\n",
        "    objects = ['angry', 'disgust', 'fear', 'happy', 'sad', 'surprise', 'neutral']\n",
        "    y_pos = np.arange(len(objects))\n",
        "    plt.bar(y_pos, emotions, align='center', alpha=0.9)\n",
        "    plt.tick_params(axis='x', which='both', pad=10,width=4,length=10)\n",
        "    plt.xticks(y_pos, objects)\n",
        "    plt.ylabel('percentage')\n",
        "    plt.title('emotion')\n",
        "    \n",
        "plt.show()"
      ]
    },
    {
      "cell_type": "code",
      "execution_count": 46,
      "metadata": {
        "_uuid": "241291244491cc1e84a45ecb0da66c1c09a4cd7a",
        "colab": {
          "base_uri": "https://localhost:8080/"
        },
        "id": "0-Wk3_pngxhH",
        "outputId": "ae0cba65-8a5c-472f-bcc7-3191abc6f58f"
      },
      "outputs": [
        {
          "output_type": "stream",
          "name": "stdout",
          "text": [
            "113/113 [==============================] - 3s 17ms/step\n"
          ]
        },
        {
          "output_type": "execute_result",
          "data": {
            "text/plain": [
              "(3589, 7)"
            ]
          },
          "metadata": {},
          "execution_count": 46
        }
      ],
      "source": [
        "y_pred=model.predict(X_test)\n",
        "#print(y_pred)\n",
        "y_test.shape"
      ]
    },
    {
      "cell_type": "code",
      "execution_count": 47,
      "metadata": {
        "_uuid": "0e97d2cb00640d2bfc4d4de9456249e893f72cc2",
        "id": "n7pjs7dugxhH"
      },
      "outputs": [],
      "source": [
        "#import seaborn as sn\n",
        "#import pandas as pd\n",
        "#import matplotlib.pyplot as plt\n",
        "#import numpy as np\n",
        "#from sklearn.metrics import confusion_matrix\n",
        "#%matplotlib inline\n",
        "#cm = confusion_matrix(np.where(y_test == 1)[1], y_pred)\n",
        "#cm = cm.astype('float') / cm.sum(axis=1)[:, np.newaxis]\n",
        "#df_cm = pd.DataFrame(cm, index = [i for i in \"0123456\"],\n",
        "                  #columns = [i for i in \"0123456\"])\n",
        "#plt.figure(figsize = (20,15))\n",
        "#sn.heatmap(df_cm, annot=True)"
      ]
    },
    {
      "cell_type": "markdown",
      "metadata": {
        "id": "DDOINWbUgxhI"
      },
      "source": [
        "**Real Time Expression Prediction**"
      ]
    },
    {
      "cell_type": "code",
      "execution_count": null,
      "metadata": {
        "_uuid": "70fc48e66d18c54ba629e625ad8def5ad2d93fa6",
        "id": "ePAuF9dTgxhI"
      },
      "outputs": [],
      "source": [
        "from skimage import io\n",
        "image_path = input('Enter the image path : ')\n",
        "# image_path = '/content/download.jpg'\n",
        "img = load_img(image_path, grayscale=True, target_size=(48, 48))\n",
        "show_img= load_img(image_path, grayscale=False, target_size=(200, 200))\n",
        "x = img_to_array(img)\n",
        "x = np.expand_dims(x, axis = 0)\n",
        "\n",
        "x /= 255\n",
        "\n",
        "custom = model.predict(x)\n",
        "#print(custom[0])\n",
        "emotion_analysis(custom[0])\n",
        "\n",
        "x = np.array(x, 'float32')\n",
        "x = x.reshape([48, 48]);\n",
        "\n",
        "plt.gray()\n",
        "plt.imshow(show_img)\n",
        "plt.show()\n",
        "\n",
        "m=0.000000000000000000001\n",
        "a=custom[0]\n",
        "for i in range(0,len(a)):\n",
        "    if a[i]>m:\n",
        "        m=a[i]\n",
        "        ind=i\n",
        "        \n",
        "print('Expression Prediction:',objects[ind])\n",
        "        "
      ]
    },
    {
      "cell_type": "markdown",
      "metadata": {
        "id": "nfkVd5pFgxhJ"
      },
      "source": [
        "**Live Demo of Production Level Project**\n",
        "\n",
        "[Facial Expression Detection Web App](https://faceai.herokuapp.com/)"
      ]
    }
  ],
  "metadata": {
    "kernelspec": {
      "display_name": "Python 3",
      "language": "python",
      "name": "python3"
    },
    "language_info": {
      "codemirror_mode": {
        "name": "ipython",
        "version": 3
      },
      "file_extension": ".py",
      "mimetype": "text/x-python",
      "name": "python",
      "nbconvert_exporter": "python",
      "pygments_lexer": "ipython3",
      "version": "3.6.6"
    },
    "colab": {
      "provenance": [],
      "collapsed_sections": [],
      "include_colab_link": true
    },
    "accelerator": "GPU",
    "gpuClass": "standard"
  },
  "nbformat": 4,
  "nbformat_minor": 0
}